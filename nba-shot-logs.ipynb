{
 "cells": [
  {
   "cell_type": "markdown",
   "metadata": {},
   "source": [
    "# Library import 및 Spark 세션 생성"
   ]
  },
  {
   "cell_type": "code",
   "execution_count": 19,
   "metadata": {},
   "outputs": [],
   "source": [
    "import numpy as np\n",
    "import pandas as pd\n",
    "\n",
    "from pyspark.sql import SparkSession\n",
    "import pyspark.sql.functions as F\n",
    "\n",
    "spark = SparkSession.builder \\\n",
    "    .appName(\"nba-shot-logs\") \\\n",
    "    .getOrCreate()"
   ]
  },
  {
   "cell_type": "markdown",
   "metadata": {},
   "source": [
    "# Data Table 생성"
   ]
  },
  {
   "cell_type": "code",
   "execution_count": 28,
   "metadata": {},
   "outputs": [
    {
     "name": "stdout",
     "output_type": "stream",
     "text": [
      "Index(['GAME_ID', 'MATCHUP', 'LOCATION', 'W', 'FINAL_MARGIN', 'SHOT_NUMBER',\n",
      "       'PERIOD', 'GAME_CLOCK', 'SHOT_CLOCK', 'DRIBBLES', 'TOUCH_TIME',\n",
      "       'SHOT_DIST', 'PTS_TYPE', 'SHOT_RESULT', 'CLOSEST_DEFENDER',\n",
      "       'CLOSEST_DEFENDER_PLAYER_ID', 'CLOSE_DEF_DIST', 'FGM', 'PTS',\n",
      "       'player_name', 'player_id'],\n",
      "      dtype='object')\n"
     ]
    }
   ],
   "source": [
    "df = pd.read_csv('./data/shot_logs.csv')\n",
    "print(df.columns)\n",
    "\n",
    "nba_df = spark.createDataFrame(df)\n",
    "nba_df.createOrReplaceTempView(\"nba\")"
   ]
  },
  {
   "cell_type": "markdown",
   "metadata": {},
   "source": [
    "# SQL 정복하기"
   ]
  },
  {
   "cell_type": "markdown",
   "metadata": {},
   "source": [
    "## 전체 개수 구하기"
   ]
  },
  {
   "cell_type": "code",
   "execution_count": 21,
   "metadata": {},
   "outputs": [
    {
     "name": "stdout",
     "output_type": "stream",
     "text": [
      "23/02/26 15:25:23 WARN TaskSetManager: Stage 18 contains a task of very large size (1182 KiB). The maximum recommended task size is 1000 KiB.\n",
      "+--------+\n",
      "|count(1)|\n",
      "+--------+\n",
      "|  128069|\n",
      "+--------+\n",
      "\n"
     ]
    }
   ],
   "source": [
    "result_df = spark.sql(\"\"\"\n",
    "    select count(*)\n",
    "    from nba\n",
    "\"\"\")\n",
    "result_df.show()"
   ]
  },
  {
   "cell_type": "markdown",
   "metadata": {},
   "source": [
    "## GAME_ID로 group by 하기"
   ]
  },
  {
   "cell_type": "code",
   "execution_count": 40,
   "metadata": {},
   "outputs": [
    {
     "name": "stdout",
     "output_type": "stream",
     "text": [
      "23/02/26 15:46:48 WARN TaskSetManager: Stage 48 contains a task of very large size (1182 KiB). The maximum recommended task size is 1000 KiB.\n",
      "+--------+--------------------+--------+---+\n",
      "| GAME_ID|             MATCHUP|LOCATION|  W|\n",
      "+--------+--------------------+--------+---+\n",
      "|21400882|MAR 01, 2015 - OR...|       H|  L|\n",
      "|21400882|MAR 01, 2015 - CH...|       A|  W|\n",
      "|21400890|MAR 03, 2015 - LA...|       A|  L|\n",
      "|21400890|MAR 03, 2015 - CH...|       H|  W|\n",
      "|21400899|MAR 04, 2015 - CH...|       A|  W|\n",
      "|21400899|MAR 04, 2015 - BK...|       H|  L|\n",
      "+--------+--------------------+--------+---+\n",
      "\n"
     ]
    }
   ],
   "source": [
    "result_df = spark.sql(\"\"\"\n",
    "    select GAME_ID, MATCHUP, LOCATION, W\n",
    "    from nba\n",
    "    where GAME_ID in ('21400899', '21400890', '21400882')\n",
    "    group by GAME_ID, MATCHUP, LOCATION, W\n",
    "    order by GAME_ID\n",
    "\"\"\")\n",
    "result_df.show()"
   ]
  },
  {
   "cell_type": "code",
   "execution_count": null,
   "metadata": {},
   "outputs": [],
   "source": []
  }
 ],
 "metadata": {
  "kernelspec": {
   "display_name": "Python 3 (ipykernel)",
   "language": "python",
   "name": "python3"
  },
  "language_info": {
   "codemirror_mode": {
    "name": "ipython",
    "version": 3
   },
   "file_extension": ".py",
   "mimetype": "text/x-python",
   "name": "python",
   "nbconvert_exporter": "python",
   "pygments_lexer": "ipython3",
   "version": "3.9.16"
  },
  "vscode": {
   "interpreter": {
    "hash": "0afab800c8aec1d4350af4ac5251ca348f7367df6844b6b73e41233e5855c4cf"
   }
  }
 },
 "nbformat": 4,
 "nbformat_minor": 2
}
